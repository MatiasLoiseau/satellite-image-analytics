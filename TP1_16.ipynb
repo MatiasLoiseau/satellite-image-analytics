{
 "cells": [
  {
   "cell_type": "code",
   "id": "initial_id",
   "metadata": {
    "collapsed": true,
    "ExecuteTime": {
     "end_time": "2024-10-31T22:37:56.947610Z",
     "start_time": "2024-10-31T22:37:56.206522Z"
    }
   },
   "source": [
    "import os\n",
    "import numpy as np\n",
    "from sklearn.model_selection import train_test_split\n",
    "from sklearn.svm import SVC\n",
    "from sklearn.metrics import classification_report\n",
    "from PIL import Image\n",
    "\n",
    "# Rutas a los directorios\n",
    "directories = {\n",
    "    \"mountain\": \"areas/mountain\",\n",
    "    \"city\": \"areas/city\",\n",
    "    \"water\": \"areas/water\"\n",
    "}\n",
    "\n",
    "# Cargar y procesar imágenes\n",
    "data = []\n",
    "labels = []\n",
    "\n",
    "def load_images_from_folder(folder, label):\n",
    "    for filename in os.listdir(folder):\n",
    "        if filename.endswith(\".tif\"):\n",
    "            img_path = os.path.join(folder, filename)\n",
    "            img = Image.open(img_path).convert(\"L\")  # Convertir a escala de grises\n",
    "            img = img.resize((64, 64))  # Redimensionar a 64x64 píxeles para simplificar\n",
    "            img_array = np.array(img).flatten()  # Convertir la imagen a un vector\n",
    "            data.append(img_array)\n",
    "            labels.append(label)\n",
    "\n",
    "# Cargar imágenes de cada directorio\n",
    "for label, folder in directories.items():\n",
    "    load_images_from_folder(folder, label)\n",
    "\n",
    "# Convertir datos y etiquetas a arrays numpy\n",
    "data = np.array(data)\n",
    "labels = np.array(labels)\n",
    "\n",
    "# Dividir en conjuntos de entrenamiento y prueba\n",
    "X_train, X_test, y_train, y_test = train_test_split(data, labels, test_size=0.3, random_state=42)\n",
    "\n",
    "# Entrenar modelo SVM\n",
    "svm_model = SVC(kernel=\"linear\", random_state=42)\n",
    "svm_model.fit(X_train, y_train)\n",
    "\n",
    "# Evaluar modelo\n",
    "y_pred = svm_model.predict(X_test)\n",
    "print(\"Classification Report:\\n\", classification_report(y_test, y_pred))\n",
    "\n",
    "# Predecir la clase de la nueva imagen\n",
    "new_image_path = \"bariloche2/B1.tif\"\n",
    "new_img = Image.open(new_image_path).convert(\"L\")\n",
    "new_img = new_img.resize((64, 64))\n",
    "new_img_array = np.array(new_img).flatten().reshape(1, -1)\n",
    "\n",
    "prediction = svm_model.predict(new_img_array)\n",
    "print(\"Predicted class for bariloche2/B1.tif:\", prediction[0])\n"
   ],
   "outputs": [
    {
     "name": "stdout",
     "output_type": "stream",
     "text": [
      "Classification Report:\n",
      "               precision    recall  f1-score   support\n",
      "\n",
      "        city       1.00      1.00      1.00         2\n",
      "    mountain       0.00      0.00      0.00         3\n",
      "       water       0.40      1.00      0.57         2\n",
      "\n",
      "    accuracy                           0.57         7\n",
      "   macro avg       0.47      0.67      0.52         7\n",
      "weighted avg       0.40      0.57      0.45         7\n",
      "\n",
      "Predicted class for bariloche2/B1.tif: water\n"
     ]
    },
    {
     "name": "stderr",
     "output_type": "stream",
     "text": [
      "/home/matias/anaconda3/envs/image-analysis/lib/python3.10/site-packages/sklearn/metrics/_classification.py:1531: UndefinedMetricWarning: Precision is ill-defined and being set to 0.0 in labels with no predicted samples. Use `zero_division` parameter to control this behavior.\n",
      "  _warn_prf(average, modifier, f\"{metric.capitalize()} is\", len(result))\n",
      "/home/matias/anaconda3/envs/image-analysis/lib/python3.10/site-packages/sklearn/metrics/_classification.py:1531: UndefinedMetricWarning: Precision is ill-defined and being set to 0.0 in labels with no predicted samples. Use `zero_division` parameter to control this behavior.\n",
      "  _warn_prf(average, modifier, f\"{metric.capitalize()} is\", len(result))\n",
      "/home/matias/anaconda3/envs/image-analysis/lib/python3.10/site-packages/sklearn/metrics/_classification.py:1531: UndefinedMetricWarning: Precision is ill-defined and being set to 0.0 in labels with no predicted samples. Use `zero_division` parameter to control this behavior.\n",
      "  _warn_prf(average, modifier, f\"{metric.capitalize()} is\", len(result))\n"
     ]
    }
   ],
   "execution_count": 1
  },
  {
   "metadata": {},
   "cell_type": "code",
   "outputs": [],
   "execution_count": null,
   "source": "",
   "id": "94aa8307dd88e0d5"
  }
 ],
 "metadata": {
  "kernelspec": {
   "display_name": "Python 3",
   "language": "python",
   "name": "python3"
  },
  "language_info": {
   "codemirror_mode": {
    "name": "ipython",
    "version": 2
   },
   "file_extension": ".py",
   "mimetype": "text/x-python",
   "name": "python",
   "nbconvert_exporter": "python",
   "pygments_lexer": "ipython2",
   "version": "2.7.6"
  }
 },
 "nbformat": 4,
 "nbformat_minor": 5
}
